{
  "nbformat": 4,
  "nbformat_minor": 0,
  "metadata": {
    "colab": {
      "name": "ProjetoPI.ipynb",
      "provenance": []
    },
    "kernelspec": {
      "name": "python3",
      "display_name": "Python 3"
    },
    "language_info": {
      "name": "python"
    }
  },
  "cells": [
    {
      "cell_type": "markdown",
      "metadata": {
        "id": "mvVzL9cOHbch"
      },
      "source": [
        "**Projeto Integrado - IA + IOT na manutenção preditiva**"
      ]
    },
    {
      "cell_type": "markdown",
      "metadata": {
        "id": "GF3XauepHlFF"
      },
      "source": [
        "Instalação e importação de bibliotecas necessárias"
      ]
    },
    {
      "cell_type": "code",
      "metadata": {
        "colab": {
          "base_uri": "https://localhost:8080/"
        },
        "id": "34fWOdZJHcXE",
        "outputId": "ce115001-e0d2-4a3c-fba5-ad52eb30f920"
      },
      "source": [
        "!pip install imblearn --upgrade\n",
        "!pip install plotly --upgrade\n",
        "!pip install chart-studio --upgrade"
      ],
      "execution_count": null,
      "outputs": [
        {
          "output_type": "stream",
          "name": "stdout",
          "text": [
            "Requirement already satisfied: imblearn in /usr/local/lib/python3.7/dist-packages (0.0)\n",
            "Requirement already satisfied: imbalanced-learn in /usr/local/lib/python3.7/dist-packages (from imblearn) (0.4.3)\n",
            "Requirement already satisfied: scikit-learn>=0.20 in /usr/local/lib/python3.7/dist-packages (from imbalanced-learn->imblearn) (0.22.2.post1)\n",
            "Requirement already satisfied: scipy>=0.13.3 in /usr/local/lib/python3.7/dist-packages (from imbalanced-learn->imblearn) (1.4.1)\n",
            "Requirement already satisfied: numpy>=1.8.2 in /usr/local/lib/python3.7/dist-packages (from imbalanced-learn->imblearn) (1.19.5)\n",
            "Requirement already satisfied: joblib>=0.11 in /usr/local/lib/python3.7/dist-packages (from scikit-learn>=0.20->imbalanced-learn->imblearn) (1.0.1)\n",
            "Requirement already satisfied: plotly in /usr/local/lib/python3.7/dist-packages (4.4.1)\n",
            "Collecting plotly\n",
            "  Downloading plotly-5.3.1-py2.py3-none-any.whl (23.9 MB)\n",
            "\u001b[K     |████████████████████████████████| 23.9 MB 14 kB/s \n",
            "\u001b[?25hRequirement already satisfied: six in /usr/local/lib/python3.7/dist-packages (from plotly) (1.15.0)\n",
            "Collecting tenacity>=6.2.0\n",
            "  Downloading tenacity-8.0.1-py3-none-any.whl (24 kB)\n",
            "Installing collected packages: tenacity, plotly\n",
            "  Attempting uninstall: plotly\n",
            "    Found existing installation: plotly 4.4.1\n",
            "    Uninstalling plotly-4.4.1:\n",
            "      Successfully uninstalled plotly-4.4.1\n",
            "Successfully installed plotly-5.3.1 tenacity-8.0.1\n",
            "Collecting chart-studio\n",
            "  Downloading chart_studio-1.1.0-py3-none-any.whl (64 kB)\n",
            "\u001b[K     |████████████████████████████████| 64 kB 1.8 MB/s \n",
            "\u001b[?25hRequirement already satisfied: six in /usr/local/lib/python3.7/dist-packages (from chart-studio) (1.15.0)\n",
            "Requirement already satisfied: retrying>=1.3.3 in /usr/local/lib/python3.7/dist-packages (from chart-studio) (1.3.3)\n",
            "Requirement already satisfied: requests in /usr/local/lib/python3.7/dist-packages (from chart-studio) (2.23.0)\n",
            "Requirement already satisfied: plotly in /usr/local/lib/python3.7/dist-packages (from chart-studio) (5.3.1)\n",
            "Requirement already satisfied: tenacity>=6.2.0 in /usr/local/lib/python3.7/dist-packages (from plotly->chart-studio) (8.0.1)\n",
            "Requirement already satisfied: certifi>=2017.4.17 in /usr/local/lib/python3.7/dist-packages (from requests->chart-studio) (2021.5.30)\n",
            "Requirement already satisfied: urllib3!=1.25.0,!=1.25.1,<1.26,>=1.21.1 in /usr/local/lib/python3.7/dist-packages (from requests->chart-studio) (1.24.3)\n",
            "Requirement already satisfied: idna<3,>=2.5 in /usr/local/lib/python3.7/dist-packages (from requests->chart-studio) (2.10)\n",
            "Requirement already satisfied: chardet<4,>=3.0.2 in /usr/local/lib/python3.7/dist-packages (from requests->chart-studio) (3.0.4)\n",
            "Installing collected packages: chart-studio\n",
            "Successfully installed chart-studio-1.1.0\n"
          ]
        }
      ]
    },
    {
      "cell_type": "code",
      "metadata": {
        "colab": {
          "base_uri": "https://localhost:8080/"
        },
        "id": "Jy-UcYURHruh",
        "outputId": "f4031951-ed9a-4f23-f45f-4661c2471a96"
      },
      "source": [
        "import chart_studio.plotly as py\n",
        "import plotly.graph_objs as go\n",
        "import plotly as plotly\n",
        "import pandas as pd\n",
        "import numpy as np\n",
        "from imblearn.over_sampling import SMOTE\n",
        "from imblearn.over_sampling import SMOTENC\n",
        "from sklearn import metrics\n",
        "from sklearn.preprocessing import LabelEncoder\n",
        "import xgboost as xgb\n",
        "from xgboost.sklearn import XGBClassifier\n",
        "import types\n",
        "import pandas as pd\n",
        "def __iter__(self): return 0"
      ],
      "execution_count": null,
      "outputs": [
        {
          "output_type": "stream",
          "name": "stderr",
          "text": [
            "/usr/local/lib/python3.7/dist-packages/sklearn/externals/six.py:31: FutureWarning: The module is deprecated in version 0.21 and will be removed in version 0.23 since we've dropped support for Python 2.7. Please rely on the official version of six (https://pypi.org/project/six/).\n",
            "  \"(https://pypi.org/project/six/).\", FutureWarning)\n",
            "/usr/local/lib/python3.7/dist-packages/sklearn/utils/deprecation.py:144: FutureWarning: The sklearn.neighbors.base module is  deprecated in version 0.22 and will be removed in version 0.24. The corresponding classes / functions should instead be imported from sklearn.neighbors. Anything that cannot be imported from sklearn.neighbors is now part of the private API.\n",
            "  warnings.warn(message, FutureWarning)\n"
          ]
        }
      ]
    },
    {
      "cell_type": "markdown",
      "metadata": {
        "id": "HIzUUP1xH7ew"
      },
      "source": [
        "Importação dos dados via GitHub"
      ]
    },
    {
      "cell_type": "code",
      "metadata": {
        "colab": {
          "base_uri": "https://localhost:8080/"
        },
        "id": "IdMx0bzeH5RJ",
        "outputId": "c6c2c48a-9ff0-450f-b514-1e84c524fc95"
      },
      "source": [
        "!rm equipment_failure_data_1.csv\n",
        "#importando \n",
        "!wget https://raw.githubusercontent.com/shadgriffin/machine_failure/master/equipment_failure_data_1.csv\n",
        "# Converte o csv para um pandas df\n",
        "pd_data_1 = pd.read_csv(\"equipment_failure_data_1.csv\", sep=\",\", header=0)\n",
        "\n",
        "!rm equipment_failure_data_2.csv\n",
        "\n",
        "!wget https://raw.githubusercontent.com/shadgriffin/machine_failure/master/equipment_failure_data_2.csv\n",
        "\n",
        "# Converte o csv para um pandas df\n",
        "pd_data_2 = pd.read_csv(\"equipment_failure_data_2.csv\", sep=\",\", header=0)\n",
        "\n",
        "#Concatenação dos diferentes arquivos em um df\n",
        "pd_data=pd.concat([pd_data_1, pd_data_2])"
      ],
      "execution_count": null,
      "outputs": [
        {
          "output_type": "stream",
          "name": "stdout",
          "text": [
            "rm: cannot remove 'equipment_failure_data_1.csv': No such file or directory\n",
            "--2021-09-27 02:51:31--  https://raw.githubusercontent.com/shadgriffin/machine_failure/master/equipment_failure_data_1.csv\n",
            "Resolving raw.githubusercontent.com (raw.githubusercontent.com)... 185.199.108.133, 185.199.109.133, 185.199.110.133, ...\n",
            "Connecting to raw.githubusercontent.com (raw.githubusercontent.com)|185.199.108.133|:443... connected.\n",
            "HTTP request sent, awaiting response... 200 OK\n",
            "Length: 11219474 (11M) [text/plain]\n",
            "Saving to: ‘equipment_failure_data_1.csv’\n",
            "\n",
            "equipment_failure_d 100%[===================>]  10.70M  63.1MB/s    in 0.2s    \n",
            "\n",
            "2021-09-27 02:51:32 (63.1 MB/s) - ‘equipment_failure_data_1.csv’ saved [11219474/11219474]\n",
            "\n",
            "rm: cannot remove 'equipment_failure_data_2.csv': No such file or directory\n",
            "--2021-09-27 02:51:32--  https://raw.githubusercontent.com/shadgriffin/machine_failure/master/equipment_failure_data_2.csv\n",
            "Resolving raw.githubusercontent.com (raw.githubusercontent.com)... 185.199.109.133, 185.199.110.133, 185.199.108.133, ...\n",
            "Connecting to raw.githubusercontent.com (raw.githubusercontent.com)|185.199.109.133|:443... connected.\n",
            "HTTP request sent, awaiting response... 200 OK\n",
            "Length: 11762512 (11M) [text/plain]\n",
            "Saving to: ‘equipment_failure_data_2.csv’\n",
            "\n",
            "equipment_failure_d 100%[===================>]  11.22M  --.-KB/s    in 0.1s    \n",
            "\n",
            "2021-09-27 02:51:34 (88.3 MB/s) - ‘equipment_failure_data_2.csv’ saved [11762512/11762512]\n",
            "\n"
          ]
        }
      ]
    },
    {
      "cell_type": "markdown",
      "metadata": {
        "id": "OUbh4B0TIsN3"
      },
      "source": [
        "**Análise Exploratória**"
      ]
    },
    {
      "cell_type": "code",
      "metadata": {
        "colab": {
          "base_uri": "https://localhost:8080/",
          "height": 204
        },
        "id": "HhQO8DIvIk3f",
        "outputId": "45585258-5441-47b1-f1c1-d7249d544a6d"
      },
      "source": [
        "pd_data.head()"
      ],
      "execution_count": null,
      "outputs": [
        {
          "output_type": "execute_result",
          "data": {
            "text/html": [
              "<div>\n",
              "<style scoped>\n",
              "    .dataframe tbody tr th:only-of-type {\n",
              "        vertical-align: middle;\n",
              "    }\n",
              "\n",
              "    .dataframe tbody tr th {\n",
              "        vertical-align: top;\n",
              "    }\n",
              "\n",
              "    .dataframe thead th {\n",
              "        text-align: right;\n",
              "    }\n",
              "</style>\n",
              "<table border=\"1\" class=\"dataframe\">\n",
              "  <thead>\n",
              "    <tr style=\"text-align: right;\">\n",
              "      <th></th>\n",
              "      <th>ID</th>\n",
              "      <th>DATE</th>\n",
              "      <th>REGION_CLUSTER</th>\n",
              "      <th>MAINTENANCE_VENDOR</th>\n",
              "      <th>MANUFACTURER</th>\n",
              "      <th>WELL_GROUP</th>\n",
              "      <th>S15</th>\n",
              "      <th>S17</th>\n",
              "      <th>S13</th>\n",
              "      <th>S5</th>\n",
              "      <th>S16</th>\n",
              "      <th>S19</th>\n",
              "      <th>S18</th>\n",
              "      <th>EQUIPMENT_FAILURE</th>\n",
              "      <th>S8</th>\n",
              "      <th>AGE_OF_EQUIPMENT</th>\n",
              "    </tr>\n",
              "  </thead>\n",
              "  <tbody>\n",
              "    <tr>\n",
              "      <th>0</th>\n",
              "      <td>100001</td>\n",
              "      <td>12/2/14</td>\n",
              "      <td>G</td>\n",
              "      <td>O</td>\n",
              "      <td>Y</td>\n",
              "      <td>1</td>\n",
              "      <td>11.088000</td>\n",
              "      <td>145.223448</td>\n",
              "      <td>39.34</td>\n",
              "      <td>3501.0</td>\n",
              "      <td>8.426869</td>\n",
              "      <td>1.9</td>\n",
              "      <td>24.610345</td>\n",
              "      <td>0</td>\n",
              "      <td>0.0</td>\n",
              "      <td>880</td>\n",
              "    </tr>\n",
              "    <tr>\n",
              "      <th>1</th>\n",
              "      <td>100001</td>\n",
              "      <td>12/3/14</td>\n",
              "      <td>G</td>\n",
              "      <td>O</td>\n",
              "      <td>Y</td>\n",
              "      <td>1</td>\n",
              "      <td>8.877943</td>\n",
              "      <td>187.573214</td>\n",
              "      <td>39.20</td>\n",
              "      <td>3489.0</td>\n",
              "      <td>6.483714</td>\n",
              "      <td>1.9</td>\n",
              "      <td>24.671429</td>\n",
              "      <td>0</td>\n",
              "      <td>0.0</td>\n",
              "      <td>881</td>\n",
              "    </tr>\n",
              "    <tr>\n",
              "      <th>2</th>\n",
              "      <td>100001</td>\n",
              "      <td>12/4/14</td>\n",
              "      <td>G</td>\n",
              "      <td>O</td>\n",
              "      <td>Y</td>\n",
              "      <td>1</td>\n",
              "      <td>8.676444</td>\n",
              "      <td>148.363704</td>\n",
              "      <td>38.87</td>\n",
              "      <td>3459.0</td>\n",
              "      <td>6.159659</td>\n",
              "      <td>2.0</td>\n",
              "      <td>24.733333</td>\n",
              "      <td>0</td>\n",
              "      <td>0.0</td>\n",
              "      <td>882</td>\n",
              "    </tr>\n",
              "    <tr>\n",
              "      <th>3</th>\n",
              "      <td>100001</td>\n",
              "      <td>12/5/14</td>\n",
              "      <td>G</td>\n",
              "      <td>O</td>\n",
              "      <td>Y</td>\n",
              "      <td>1</td>\n",
              "      <td>9.988338</td>\n",
              "      <td>133.660000</td>\n",
              "      <td>39.47</td>\n",
              "      <td>3513.0</td>\n",
              "      <td>9.320308</td>\n",
              "      <td>2.0</td>\n",
              "      <td>24.773077</td>\n",
              "      <td>0</td>\n",
              "      <td>0.0</td>\n",
              "      <td>883</td>\n",
              "    </tr>\n",
              "    <tr>\n",
              "      <th>4</th>\n",
              "      <td>100001</td>\n",
              "      <td>12/6/14</td>\n",
              "      <td>G</td>\n",
              "      <td>O</td>\n",
              "      <td>Y</td>\n",
              "      <td>1</td>\n",
              "      <td>8.475264</td>\n",
              "      <td>197.181600</td>\n",
              "      <td>40.33</td>\n",
              "      <td>3589.0</td>\n",
              "      <td>8.022960</td>\n",
              "      <td>1.5</td>\n",
              "      <td>24.808000</td>\n",
              "      <td>0</td>\n",
              "      <td>0.0</td>\n",
              "      <td>884</td>\n",
              "    </tr>\n",
              "  </tbody>\n",
              "</table>\n",
              "</div>"
            ],
            "text/plain": [
              "       ID     DATE REGION_CLUSTER  ... EQUIPMENT_FAILURE   S8  AGE_OF_EQUIPMENT\n",
              "0  100001  12/2/14              G  ...                 0  0.0               880\n",
              "1  100001  12/3/14              G  ...                 0  0.0               881\n",
              "2  100001  12/4/14              G  ...                 0  0.0               882\n",
              "3  100001  12/5/14              G  ...                 0  0.0               883\n",
              "4  100001  12/6/14              G  ...                 0  0.0               884\n",
              "\n",
              "[5 rows x 16 columns]"
            ]
          },
          "metadata": {},
          "execution_count": 4
        }
      ]
    },
    {
      "cell_type": "code",
      "metadata": {
        "colab": {
          "base_uri": "https://localhost:8080/"
        },
        "id": "JVV0FaxMIy8O",
        "outputId": "be697c3a-0388-401f-a8f6-e9416d41e095"
      },
      "source": [
        "pd_data.shape"
      ],
      "execution_count": null,
      "outputs": [
        {
          "output_type": "execute_result",
          "data": {
            "text/plain": [
              "(307751, 16)"
            ]
          },
          "metadata": {},
          "execution_count": 5
        }
      ]
    },
    {
      "cell_type": "code",
      "metadata": {
        "colab": {
          "base_uri": "https://localhost:8080/"
        },
        "id": "1S0MC4aOI6gV",
        "outputId": "050a7552-2906-48b0-f5c5-929efb8a4a6f"
      },
      "source": [
        "# contagem das diferentes datas no df\n",
        "xxxx = pd.DataFrame(pd_data.groupby(['DATE']).agg(['count']))\n",
        "xxxx.shape"
      ],
      "execution_count": null,
      "outputs": [
        {
          "output_type": "execute_result",
          "data": {
            "text/plain": [
              "(731, 15)"
            ]
          },
          "metadata": {},
          "execution_count": 6
        }
      ]
    },
    {
      "cell_type": "code",
      "metadata": {
        "colab": {
          "base_uri": "https://localhost:8080/"
        },
        "id": "JtaMJqQQJINp",
        "outputId": "2dffc6a1-daa6-465c-a762-281fa57c348f"
      },
      "source": [
        "#contagem das diferentes máquinas\n",
        "xxxx = pd.DataFrame(pd_data.groupby(['ID']).agg(['count']))\n",
        "xxxx.shape"
      ],
      "execution_count": null,
      "outputs": [
        {
          "output_type": "execute_result",
          "data": {
            "text/plain": [
              "(421, 15)"
            ]
          },
          "metadata": {},
          "execution_count": 7
        }
      ]
    },
    {
      "cell_type": "markdown",
      "metadata": {
        "id": "8FYsFbZJJY50"
      },
      "source": [
        "Temos 421 máquinas em 731 datas diferentes"
      ]
    },
    {
      "cell_type": "code",
      "metadata": {
        "id": "FKrHbD-cJPtg"
      },
      "source": [
        "# Temos 421 máquinas em 731 datas diferentes"
      ],
      "execution_count": null,
      "outputs": []
    },
    {
      "cell_type": "code",
      "metadata": {
        "colab": {
          "base_uri": "https://localhost:8080/"
        },
        "id": "aWmk9CnfJV7s",
        "outputId": "679d4c97-bdb3-4054-e222-264b22fdf42e"
      },
      "source": [
        "#contagem do número total de registros\n",
        "df_failure_thingy=pd_data\n",
        "df_failure_thingy=df_failure_thingy.drop_duplicates(subset=['ID','DATE'])\n",
        "df_failure_thingy.shape"
      ],
      "execution_count": null,
      "outputs": [
        {
          "output_type": "execute_result",
          "data": {
            "text/plain": [
              "(307751, 16)"
            ]
          },
          "metadata": {},
          "execution_count": 9
        }
      ]
    },
    {
      "cell_type": "markdown",
      "metadata": {
        "id": "dWVeTdadKIcv"
      },
      "source": [
        "O dataset conta com 307751 registros"
      ]
    },
    {
      "cell_type": "code",
      "metadata": {
        "colab": {
          "base_uri": "https://localhost:8080/"
        },
        "id": "_NNCPtRRJoE6",
        "outputId": "1ee9901a-017c-48e4-ec1c-04ab739c1487"
      },
      "source": [
        "# busca de valores nulos\n",
        "pd_data.isnull().sum(axis = 0)"
      ],
      "execution_count": null,
      "outputs": [
        {
          "output_type": "execute_result",
          "data": {
            "text/plain": [
              "ID                    0\n",
              "DATE                  0\n",
              "REGION_CLUSTER        0\n",
              "MAINTENANCE_VENDOR    0\n",
              "MANUFACTURER          0\n",
              "WELL_GROUP            0\n",
              "S15                   0\n",
              "S17                   0\n",
              "S13                   0\n",
              "S5                    0\n",
              "S16                   0\n",
              "S19                   0\n",
              "S18                   0\n",
              "EQUIPMENT_FAILURE     0\n",
              "S8                    0\n",
              "AGE_OF_EQUIPMENT      0\n",
              "dtype: int64"
            ]
          },
          "metadata": {},
          "execution_count": 10
        }
      ]
    },
    {
      "cell_type": "code",
      "metadata": {
        "colab": {
          "base_uri": "https://localhost:8080/",
          "height": 142
        },
        "id": "s_mlGjWOKWev",
        "outputId": "1364a954-3bcc-4c7a-f523-ce38d7c21a88"
      },
      "source": [
        "# contando o número de falhas presentes \n",
        "xxxx = pd.DataFrame(pd_data.groupby(['EQUIPMENT_FAILURE'])['ID'].agg('count'))\n",
        "xxxx"
      ],
      "execution_count": null,
      "outputs": [
        {
          "output_type": "execute_result",
          "data": {
            "text/html": [
              "<div>\n",
              "<style scoped>\n",
              "    .dataframe tbody tr th:only-of-type {\n",
              "        vertical-align: middle;\n",
              "    }\n",
              "\n",
              "    .dataframe tbody tr th {\n",
              "        vertical-align: top;\n",
              "    }\n",
              "\n",
              "    .dataframe thead th {\n",
              "        text-align: right;\n",
              "    }\n",
              "</style>\n",
              "<table border=\"1\" class=\"dataframe\">\n",
              "  <thead>\n",
              "    <tr style=\"text-align: right;\">\n",
              "      <th></th>\n",
              "      <th>ID</th>\n",
              "    </tr>\n",
              "    <tr>\n",
              "      <th>EQUIPMENT_FAILURE</th>\n",
              "      <th></th>\n",
              "    </tr>\n",
              "  </thead>\n",
              "  <tbody>\n",
              "    <tr>\n",
              "      <th>0</th>\n",
              "      <td>307330</td>\n",
              "    </tr>\n",
              "    <tr>\n",
              "      <th>1</th>\n",
              "      <td>421</td>\n",
              "    </tr>\n",
              "  </tbody>\n",
              "</table>\n",
              "</div>"
            ],
            "text/plain": [
              "                       ID\n",
              "EQUIPMENT_FAILURE        \n",
              "0                  307330\n",
              "1                     421"
            ]
          },
          "metadata": {},
          "execution_count": 11
        }
      ]
    },
    {
      "cell_type": "markdown",
      "metadata": {
        "id": "a9VPeQ1xKud3"
      },
      "source": [
        "1 significa que a máquina em questão falhou, portanto são observadas 421 falhas "
      ]
    },
    {
      "cell_type": "code",
      "metadata": {
        "colab": {
          "base_uri": "https://localhost:8080/",
          "height": 297
        },
        "id": "JavygDbfKqqL",
        "outputId": "f84d02cb-0346-4e7d-efd4-f25922dffaf4"
      },
      "source": [
        "# análise estatística geral das variáveis\n",
        "pd_data.describe()"
      ],
      "execution_count": null,
      "outputs": [
        {
          "output_type": "execute_result",
          "data": {
            "text/html": [
              "<div>\n",
              "<style scoped>\n",
              "    .dataframe tbody tr th:only-of-type {\n",
              "        vertical-align: middle;\n",
              "    }\n",
              "\n",
              "    .dataframe tbody tr th {\n",
              "        vertical-align: top;\n",
              "    }\n",
              "\n",
              "    .dataframe thead th {\n",
              "        text-align: right;\n",
              "    }\n",
              "</style>\n",
              "<table border=\"1\" class=\"dataframe\">\n",
              "  <thead>\n",
              "    <tr style=\"text-align: right;\">\n",
              "      <th></th>\n",
              "      <th>ID</th>\n",
              "      <th>WELL_GROUP</th>\n",
              "      <th>S15</th>\n",
              "      <th>S17</th>\n",
              "      <th>S13</th>\n",
              "      <th>S5</th>\n",
              "      <th>S16</th>\n",
              "      <th>S19</th>\n",
              "      <th>S18</th>\n",
              "      <th>EQUIPMENT_FAILURE</th>\n",
              "      <th>S8</th>\n",
              "      <th>AGE_OF_EQUIPMENT</th>\n",
              "    </tr>\n",
              "  </thead>\n",
              "  <tbody>\n",
              "    <tr>\n",
              "      <th>count</th>\n",
              "      <td>307751.000000</td>\n",
              "      <td>307751.000000</td>\n",
              "      <td>307751.000000</td>\n",
              "      <td>307751.000000</td>\n",
              "      <td>307751.000000</td>\n",
              "      <td>307751.000000</td>\n",
              "      <td>307751.000000</td>\n",
              "      <td>307751.000000</td>\n",
              "      <td>307751.000000</td>\n",
              "      <td>307751.000000</td>\n",
              "      <td>307751.000000</td>\n",
              "      <td>307751.000000</td>\n",
              "    </tr>\n",
              "    <tr>\n",
              "      <th>mean</th>\n",
              "      <td>100310.826603</td>\n",
              "      <td>4.543943</td>\n",
              "      <td>14.585192</td>\n",
              "      <td>80.265541</td>\n",
              "      <td>35.018249</td>\n",
              "      <td>4675.848252</td>\n",
              "      <td>7.972097</td>\n",
              "      <td>9.069123</td>\n",
              "      <td>137.963064</td>\n",
              "      <td>0.001368</td>\n",
              "      <td>144.665715</td>\n",
              "      <td>2524.192399</td>\n",
              "    </tr>\n",
              "    <tr>\n",
              "      <th>std</th>\n",
              "      <td>177.574390</td>\n",
              "      <td>2.284121</td>\n",
              "      <td>8.817056</td>\n",
              "      <td>85.804273</td>\n",
              "      <td>14.446585</td>\n",
              "      <td>2521.074632</td>\n",
              "      <td>2.321949</td>\n",
              "      <td>16.898887</td>\n",
              "      <td>238.890128</td>\n",
              "      <td>0.036961</td>\n",
              "      <td>240.773926</td>\n",
              "      <td>3158.930976</td>\n",
              "    </tr>\n",
              "    <tr>\n",
              "      <th>min</th>\n",
              "      <td>100001.000000</td>\n",
              "      <td>1.000000</td>\n",
              "      <td>0.000000</td>\n",
              "      <td>0.000000</td>\n",
              "      <td>0.000000</td>\n",
              "      <td>0.000000</td>\n",
              "      <td>0.000000</td>\n",
              "      <td>0.000000</td>\n",
              "      <td>0.000000</td>\n",
              "      <td>0.000000</td>\n",
              "      <td>-16.490000</td>\n",
              "      <td>0.000000</td>\n",
              "    </tr>\n",
              "    <tr>\n",
              "      <th>25%</th>\n",
              "      <td>100161.000000</td>\n",
              "      <td>3.000000</td>\n",
              "      <td>7.694100</td>\n",
              "      <td>0.000000</td>\n",
              "      <td>28.200000</td>\n",
              "      <td>3209.000000</td>\n",
              "      <td>6.621500</td>\n",
              "      <td>0.900000</td>\n",
              "      <td>11.798276</td>\n",
              "      <td>0.000000</td>\n",
              "      <td>9.250000</td>\n",
              "      <td>721.000000</td>\n",
              "    </tr>\n",
              "    <tr>\n",
              "      <th>50%</th>\n",
              "      <td>100311.000000</td>\n",
              "      <td>5.000000</td>\n",
              "      <td>11.661600</td>\n",
              "      <td>31.680000</td>\n",
              "      <td>34.940000</td>\n",
              "      <td>4237.047619</td>\n",
              "      <td>8.004000</td>\n",
              "      <td>4.200000</td>\n",
              "      <td>38.200000</td>\n",
              "      <td>0.000000</td>\n",
              "      <td>53.080000</td>\n",
              "      <td>1113.000000</td>\n",
              "    </tr>\n",
              "    <tr>\n",
              "      <th>75%</th>\n",
              "      <td>100467.000000</td>\n",
              "      <td>6.000000</td>\n",
              "      <td>22.560000</td>\n",
              "      <td>160.080000</td>\n",
              "      <td>41.610000</td>\n",
              "      <td>5743.000000</td>\n",
              "      <td>9.460000</td>\n",
              "      <td>10.600000</td>\n",
              "      <td>150.900000</td>\n",
              "      <td>0.000000</td>\n",
              "      <td>165.092608</td>\n",
              "      <td>2784.000000</td>\n",
              "    </tr>\n",
              "    <tr>\n",
              "      <th>max</th>\n",
              "      <td>100617.000000</td>\n",
              "      <td>8.000000</td>\n",
              "      <td>59.040000</td>\n",
              "      <td>2555.520000</td>\n",
              "      <td>592.890000</td>\n",
              "      <td>52767.000000</td>\n",
              "      <td>24.600000</td>\n",
              "      <td>511.000000</td>\n",
              "      <td>4151.700000</td>\n",
              "      <td>1.000000</td>\n",
              "      <td>2068.110000</td>\n",
              "      <td>15170.000000</td>\n",
              "    </tr>\n",
              "  </tbody>\n",
              "</table>\n",
              "</div>"
            ],
            "text/plain": [
              "                  ID     WELL_GROUP  ...             S8  AGE_OF_EQUIPMENT\n",
              "count  307751.000000  307751.000000  ...  307751.000000     307751.000000\n",
              "mean   100310.826603       4.543943  ...     144.665715       2524.192399\n",
              "std       177.574390       2.284121  ...     240.773926       3158.930976\n",
              "min    100001.000000       1.000000  ...     -16.490000          0.000000\n",
              "25%    100161.000000       3.000000  ...       9.250000        721.000000\n",
              "50%    100311.000000       5.000000  ...      53.080000       1113.000000\n",
              "75%    100467.000000       6.000000  ...     165.092608       2784.000000\n",
              "max    100617.000000       8.000000  ...    2068.110000      15170.000000\n",
              "\n",
              "[8 rows x 12 columns]"
            ]
          },
          "metadata": {},
          "execution_count": 12
        }
      ]
    },
    {
      "cell_type": "markdown",
      "metadata": {
        "id": "EMdNex8zLaVm"
      },
      "source": [
        "**Engenharia de Variáveis**"
      ]
    },
    {
      "cell_type": "code",
      "metadata": {
        "id": "9pGkYIV0LBp-"
      },
      "source": [
        "# conversão da variável data para o formato datetime\n",
        "pd_data['DATE'] = pd.to_datetime(pd_data['DATE'])"
      ],
      "execution_count": null,
      "outputs": []
    },
    {
      "cell_type": "code",
      "metadata": {
        "colab": {
          "base_uri": "https://localhost:8080/",
          "height": 289
        },
        "id": "L49uGC4jL01L",
        "outputId": "42300127-9bc7-4e20-eeb1-06d5bf463fbe"
      },
      "source": [
        "# criação de variável \"flipper\" - indicação da mudança de máquina\n",
        "pd_data=pd_data.sort_values(by=['ID','DATE'], ascending=[True, True])\n",
        "pd_data['flipper'] = np.where((pd_data.ID != pd_data.ID.shift(1)), 1, 0)\n",
        "pd_data.head()\n"
      ],
      "execution_count": null,
      "outputs": [
        {
          "output_type": "execute_result",
          "data": {
            "text/html": [
              "<div>\n",
              "<style scoped>\n",
              "    .dataframe tbody tr th:only-of-type {\n",
              "        vertical-align: middle;\n",
              "    }\n",
              "\n",
              "    .dataframe tbody tr th {\n",
              "        vertical-align: top;\n",
              "    }\n",
              "\n",
              "    .dataframe thead th {\n",
              "        text-align: right;\n",
              "    }\n",
              "</style>\n",
              "<table border=\"1\" class=\"dataframe\">\n",
              "  <thead>\n",
              "    <tr style=\"text-align: right;\">\n",
              "      <th></th>\n",
              "      <th>ID</th>\n",
              "      <th>DATE</th>\n",
              "      <th>REGION_CLUSTER</th>\n",
              "      <th>MAINTENANCE_VENDOR</th>\n",
              "      <th>MANUFACTURER</th>\n",
              "      <th>WELL_GROUP</th>\n",
              "      <th>S15</th>\n",
              "      <th>S17</th>\n",
              "      <th>S13</th>\n",
              "      <th>S5</th>\n",
              "      <th>S16</th>\n",
              "      <th>S19</th>\n",
              "      <th>S18</th>\n",
              "      <th>EQUIPMENT_FAILURE</th>\n",
              "      <th>S8</th>\n",
              "      <th>AGE_OF_EQUIPMENT</th>\n",
              "      <th>flipper</th>\n",
              "    </tr>\n",
              "  </thead>\n",
              "  <tbody>\n",
              "    <tr>\n",
              "      <th>0</th>\n",
              "      <td>100001</td>\n",
              "      <td>2014-12-02</td>\n",
              "      <td>G</td>\n",
              "      <td>O</td>\n",
              "      <td>Y</td>\n",
              "      <td>1</td>\n",
              "      <td>11.088000</td>\n",
              "      <td>145.223448</td>\n",
              "      <td>39.34</td>\n",
              "      <td>3501.0</td>\n",
              "      <td>8.426869</td>\n",
              "      <td>1.9</td>\n",
              "      <td>24.610345</td>\n",
              "      <td>0</td>\n",
              "      <td>0.0</td>\n",
              "      <td>880</td>\n",
              "      <td>1</td>\n",
              "    </tr>\n",
              "    <tr>\n",
              "      <th>1</th>\n",
              "      <td>100001</td>\n",
              "      <td>2014-12-03</td>\n",
              "      <td>G</td>\n",
              "      <td>O</td>\n",
              "      <td>Y</td>\n",
              "      <td>1</td>\n",
              "      <td>8.877943</td>\n",
              "      <td>187.573214</td>\n",
              "      <td>39.20</td>\n",
              "      <td>3489.0</td>\n",
              "      <td>6.483714</td>\n",
              "      <td>1.9</td>\n",
              "      <td>24.671429</td>\n",
              "      <td>0</td>\n",
              "      <td>0.0</td>\n",
              "      <td>881</td>\n",
              "      <td>0</td>\n",
              "    </tr>\n",
              "    <tr>\n",
              "      <th>2</th>\n",
              "      <td>100001</td>\n",
              "      <td>2014-12-04</td>\n",
              "      <td>G</td>\n",
              "      <td>O</td>\n",
              "      <td>Y</td>\n",
              "      <td>1</td>\n",
              "      <td>8.676444</td>\n",
              "      <td>148.363704</td>\n",
              "      <td>38.87</td>\n",
              "      <td>3459.0</td>\n",
              "      <td>6.159659</td>\n",
              "      <td>2.0</td>\n",
              "      <td>24.733333</td>\n",
              "      <td>0</td>\n",
              "      <td>0.0</td>\n",
              "      <td>882</td>\n",
              "      <td>0</td>\n",
              "    </tr>\n",
              "    <tr>\n",
              "      <th>3</th>\n",
              "      <td>100001</td>\n",
              "      <td>2014-12-05</td>\n",
              "      <td>G</td>\n",
              "      <td>O</td>\n",
              "      <td>Y</td>\n",
              "      <td>1</td>\n",
              "      <td>9.988338</td>\n",
              "      <td>133.660000</td>\n",
              "      <td>39.47</td>\n",
              "      <td>3513.0</td>\n",
              "      <td>9.320308</td>\n",
              "      <td>2.0</td>\n",
              "      <td>24.773077</td>\n",
              "      <td>0</td>\n",
              "      <td>0.0</td>\n",
              "      <td>883</td>\n",
              "      <td>0</td>\n",
              "    </tr>\n",
              "    <tr>\n",
              "      <th>4</th>\n",
              "      <td>100001</td>\n",
              "      <td>2014-12-06</td>\n",
              "      <td>G</td>\n",
              "      <td>O</td>\n",
              "      <td>Y</td>\n",
              "      <td>1</td>\n",
              "      <td>8.475264</td>\n",
              "      <td>197.181600</td>\n",
              "      <td>40.33</td>\n",
              "      <td>3589.0</td>\n",
              "      <td>8.022960</td>\n",
              "      <td>1.5</td>\n",
              "      <td>24.808000</td>\n",
              "      <td>0</td>\n",
              "      <td>0.0</td>\n",
              "      <td>884</td>\n",
              "      <td>0</td>\n",
              "    </tr>\n",
              "  </tbody>\n",
              "</table>\n",
              "</div>"
            ],
            "text/plain": [
              "       ID       DATE REGION_CLUSTER  ...   S8 AGE_OF_EQUIPMENT  flipper\n",
              "0  100001 2014-12-02              G  ...  0.0              880        1\n",
              "1  100001 2014-12-03              G  ...  0.0              881        0\n",
              "2  100001 2014-12-04              G  ...  0.0              882        0\n",
              "3  100001 2014-12-05              G  ...  0.0              883        0\n",
              "4  100001 2014-12-06              G  ...  0.0              884        0\n",
              "\n",
              "[5 rows x 17 columns]"
            ]
          },
          "metadata": {},
          "execution_count": 14
        }
      ]
    },
    {
      "cell_type": "code",
      "metadata": {
        "id": "kZqjTY1CMnRS"
      },
      "source": [
        "feature_window = 21"
      ],
      "execution_count": null,
      "outputs": []
    },
    {
      "cell_type": "code",
      "metadata": {
        "id": "SqTNprcgN0mi"
      },
      "source": [
        "# criação de novas variáveis - time_since_start e too_soon - se too_soon = 1, temos menos de X(feature_window) dias de histórico da máquina em questão\n",
        "dfx=pd_data\n",
        "# pegando o primeiro registro de cada uma das máquinas, através da variável flipper\n",
        "starter=dfx[dfx['flipper'] == 1]\n",
        "starter=starter[['DATE','ID']]\n",
        "\n",
        "#renomeando variável date\n",
        "starter=starter.rename(index=str, columns={\"DATE\": \"START_DATE\"})\n",
        "\n",
        "#conversão do start date para o tipo datetime\n",
        "starter['START_DATE'] = pd.to_datetime(starter['START_DATE'])\n",
        "\n",
        "#jogando start_date para o dataset inicial\n",
        "dfx=dfx.sort_values(by=['ID', 'DATE'], ascending=[True, True])\n",
        "starter=starter.sort_values(by=['ID'], ascending=[True])\n",
        "dfx =dfx.merge(starter, on=['ID'], how='left')\n",
        "\n",
        "#cálculo do número de dias após o começo \n",
        "dfx['C'] = dfx['DATE'] - dfx['START_DATE']\n",
        "dfx['TIME_SINCE_START'] = dfx['C'] / np.timedelta64(1, 'D')\n",
        "dfx=dfx.drop(columns=['C'])\n",
        "dfx['too_soon'] = np.where((dfx.TIME_SINCE_START < feature_window) , 1, 0)\n",
        "\n"
      ],
      "execution_count": null,
      "outputs": []
    },
    {
      "cell_type": "code",
      "metadata": {
        "id": "JwWA9RNaPtdU"
      },
      "source": [
        "#criação de média, máximo e mínimo para as variáveis referentes a sensores\n",
        "\n",
        "dfx['S5_mean'] = np.where((dfx.too_soon == 0),(dfx['S5'].rolling(min_periods=1, window=feature_window).mean()) , dfx.S5)\n",
        "dfx['S5_median'] = np.where((dfx.too_soon == 0),(dfx['S5'].rolling(min_periods=1, window=feature_window).median()) , dfx.S5)\n",
        "dfx['S5_max'] = np.where((dfx.too_soon == 0),(dfx['S5'].rolling(min_periods=1, window=feature_window).max()) , dfx.S5)\n",
        "dfx['S5_min'] = np.where((dfx.too_soon == 0),(dfx['S5'].rolling(min_periods=1, window=feature_window).min()) , dfx.S5)\n",
        "dfx['S13_mean'] = np.where((dfx.too_soon == 0),(dfx['S13'].rolling(min_periods=1, window=feature_window).mean()) , dfx.S13)\n",
        "dfx['S13_median'] = np.where((dfx.too_soon == 0),(dfx['S13'].rolling(min_periods=1, window=feature_window).median()) , dfx.S13)\n",
        "dfx['S13_max'] = np.where((dfx.too_soon == 0),(dfx['S13'].rolling(min_periods=1, window=feature_window).max()) , dfx.S13)\n",
        "dfx['S13_min'] = np.where((dfx.too_soon == 0),(dfx['S13'].rolling(min_periods=1, window=feature_window).min()) , dfx.S13)\n",
        "dfx['S15_mean'] = np.where((dfx.too_soon == 0),(dfx['S15'].rolling(min_periods=1, window=feature_window).mean()) , dfx.S15)\n",
        "dfx['S15_median'] = np.where((dfx.too_soon == 0),(dfx['S15'].rolling(min_periods=1, window=feature_window).median()) , dfx.S15)\n",
        "dfx['S15_max'] = np.where((dfx.too_soon == 0),(dfx['S15'].rolling(min_periods=1, window=feature_window).max()) , dfx.S15)\n",
        "dfx['S15_min'] = np.where((dfx.too_soon == 0),(dfx['S15'].rolling(min_periods=1, window=feature_window).min()) , dfx.S15)\n",
        "dfx['S16_mean'] = np.where((dfx.too_soon == 0),(dfx['S16'].rolling(min_periods=1, window=feature_window).mean()) , dfx.S16)\n",
        "dfx['S16_median'] = np.where((dfx.too_soon == 0),(dfx['S16'].rolling(min_periods=1, window=feature_window).median()) , dfx.S16)\n",
        "dfx['S16_max'] = np.where((dfx.too_soon == 0),(dfx['S16'].rolling(min_periods=1, window=feature_window).max()) , dfx.S16)\n",
        "dfx['S16_min'] = np.where((dfx.too_soon == 0),(dfx['S16'].rolling(min_periods=1, window=feature_window).min()) , dfx.S16)\n",
        "dfx['S17_mean'] = np.where((dfx.too_soon == 0),(dfx['S17'].rolling(min_periods=1, window=feature_window).mean()) , dfx.S17)\n",
        "dfx['S17_median'] = np.where((dfx.too_soon == 0),(dfx['S17'].rolling(min_periods=1, window=feature_window).median()) , dfx.S17)\n",
        "dfx['S17_max'] = np.where((dfx.too_soon == 0),(dfx['S17'].rolling(min_periods=1, window=feature_window).max()) , dfx.S17)\n",
        "dfx['S17_min'] = np.where((dfx.too_soon == 0),(dfx['S17'].rolling(min_periods=1, window=feature_window).min()) , dfx.S17)\n",
        "dfx['S18_mean'] = np.where((dfx.too_soon == 0),(dfx['S18'].rolling(min_periods=1, window=feature_window).mean()) , dfx.S18)\n",
        "dfx['S18_median'] = np.where((dfx.too_soon == 0),(dfx['S18'].rolling(min_periods=1, window=feature_window).median()) , dfx.S18)\n",
        "dfx['S18_max'] = np.where((dfx.too_soon == 0),(dfx['S18'].rolling(min_periods=1, window=feature_window).max()) , dfx.S18)\n",
        "dfx['S18_min'] = np.where((dfx.too_soon == 0),(dfx['S18'].rolling(min_periods=1, window=feature_window).min()) , dfx.S18)\n",
        "dfx['S19_mean'] = np.where((dfx.too_soon == 0),(dfx['S19'].rolling(min_periods=1, window=feature_window).mean()) , dfx.S19)\n",
        "dfx['S19_median'] = np.where((dfx.too_soon == 0),(dfx['S19'].rolling(min_periods=1, window=feature_window).median()) , dfx.S19)\n",
        "dfx['S19_max'] = np.where((dfx.too_soon == 0),(dfx['S19'].rolling(min_periods=1, window=feature_window).max()) , dfx.S19)\n",
        "dfx['S19_min'] = np.where((dfx.too_soon == 0),(dfx['S19'].rolling(min_periods=1, window=feature_window).min()) , dfx.S19)"
      ],
      "execution_count": null,
      "outputs": []
    },
    {
      "cell_type": "code",
      "metadata": {
        "id": "70Fnu9VcP74n"
      },
      "source": [
        "# criação de variável que indica picos bruscos nas medições dos sensores - mostra o quão distante o valor está da média\n",
        "\n",
        "dfx['S5_chg'] = np.where((dfx.S5_mean == 0),0 , dfx.S5/dfx.S5_mean)\n",
        "dfx['S13_chg'] = np.where((dfx.S13_mean == 0),0 , dfx.S13/dfx.S13_mean)\n",
        "dfx['S15_chg'] = np.where((dfx.S15_mean==0),0 , dfx.S15/dfx.S15_mean)\n",
        "dfx['S16_chg'] = np.where((dfx.S16_mean == 0),0 , dfx.S16/dfx.S16_mean)\n",
        "dfx['S17_chg'] = np.where((dfx.S17_mean == 0),0 , dfx.S17/dfx.S17_mean)\n",
        "dfx['S18_chg'] = np.where((dfx.S18_mean == 0),0 , dfx.S18/dfx.S18_mean)\n",
        "dfx['S19_chg'] = np.where((dfx.S19_mean == 0),0 , dfx.S19/dfx.S19_mean)\n",
        "#cópia para o dataset original\n",
        "pd_data=dfx\n",
        "\n"
      ],
      "execution_count": null,
      "outputs": []
    },
    {
      "cell_type": "markdown",
      "metadata": {
        "id": "bprl2fYHQqVD"
      },
      "source": [
        "**Lidando com a baixa quantidade relativa de falhas**"
      ]
    },
    {
      "cell_type": "code",
      "metadata": {
        "id": "k97_UY2fQgia"
      },
      "source": [
        "#setando uma janela de 28 dias a serem considerados prévios a falha\n",
        "target_window=28\n",
        "\n",
        "#organizando valores por ID da máquina e data\n",
        "\n",
        "pd_data=pd_data.sort_values(by=['ID', 'DATE'], ascending=[True, True])\n",
        "pd_data.reset_index(level=0, inplace=True)\n",
        "\n",
        "# criação de um dataframe com os registros que possuem falha, renomeação de date para failure_date\n",
        "\n",
        "df_failure_thingy=pd_data[pd_data['EQUIPMENT_FAILURE'] == 1]\n",
        "df_failure_thingy=df_failure_thingy[['DATE','ID']]\n",
        "df_failure_thingy=df_failure_thingy.rename(index=str, columns={\"DATE\": \"FAILURE_DATE\"})\n",
        "pd_data=pd_data.sort_values(by=['ID'], ascending=[True])\n",
        "df_failure_thingy=df_failure_thingy.sort_values(by=['ID'], ascending=[True])"
      ],
      "execution_count": null,
      "outputs": []
    },
    {
      "cell_type": "code",
      "metadata": {
        "id": "h2ObYJNrSous"
      },
      "source": [
        "#  merge data no ID\n",
        "pd_data =pd_data.merge(df_failure_thingy, on=['ID'], how='left')"
      ],
      "execution_count": null,
      "outputs": []
    },
    {
      "cell_type": "code",
      "metadata": {
        "id": "Uzr_Q4dcTAkH"
      },
      "source": [
        "# cálculo do número de dias até a falha para cada registro\n",
        "pd_data=pd_data.sort_values(by=['ID','DATE'], ascending=[True, True])\n",
        "pd_data['FAILURE_DATE'] = pd.to_datetime(pd_data['FAILURE_DATE'])\n",
        "pd_data['DATE'] = pd.to_datetime(pd_data['DATE'])\n",
        "pd_data['C'] = pd_data['FAILURE_DATE'] - pd_data['DATE']\n",
        "pd_data['TIME_TO_FAILURE'] = pd_data['C'] / np.timedelta64(1, 'D')\n"
      ],
      "execution_count": null,
      "outputs": []
    },
    {
      "cell_type": "code",
      "metadata": {
        "id": "9zJ7TRNJTJGk"
      },
      "source": [
        "# ordenando por data e ID\n",
        "pd_data=pd_data.drop(columns=['index'])\n",
        "pd_data=pd_data.sort_values(by=['ID', 'DATE'], ascending=[True, True])\n",
        "pd_data.reset_index(inplace=True)\n"
      ],
      "execution_count": null,
      "outputs": []
    },
    {
      "cell_type": "code",
      "metadata": {
        "colab": {
          "base_uri": "https://localhost:8080/"
        },
        "id": "35fNkpXFTShh",
        "outputId": "97c10f93-7d72-46fa-e010-c46578333e10"
      },
      "source": [
        "# criação da variável failure_target - failure_target=1 quando quando a falha acontece dentro da janela failure_window\n",
        "\n",
        "pd_data['FAILURE_TARGET'] = np.where(((pd_data.TIME_TO_FAILURE < target_window) & ((pd_data.TIME_TO_FAILURE>=0))), 1, 0)\n",
        "tips_summed = pd_data.groupby(['FAILURE_TARGET'])['S5'].count()\n",
        "tips_summed"
      ],
      "execution_count": null,
      "outputs": [
        {
          "output_type": "execute_result",
          "data": {
            "text/plain": [
              "FAILURE_TARGET\n",
              "0    296011\n",
              "1     11740\n",
              "Name: S5, dtype: int64"
            ]
          },
          "metadata": {},
          "execution_count": 23
        }
      ]
    },
    {
      "cell_type": "code",
      "metadata": {
        "colab": {
          "base_uri": "https://localhost:8080/"
        },
        "id": "sqxvskR3TgV0",
        "outputId": "c79e703a-731a-4c08-dbc8-1612e831910c"
      },
      "source": [
        "#média do failure target\n",
        "pd_data['FAILURE_TARGET'].mean()"
      ],
      "execution_count": null,
      "outputs": [
        {
          "output_type": "execute_result",
          "data": {
            "text/plain": [
              "0.03814772332177637"
            ]
          },
          "metadata": {},
          "execution_count": 24
        }
      ]
    },
    {
      "cell_type": "markdown",
      "metadata": {
        "id": "Tmra54-7T8Yt"
      },
      "source": [
        "O número de positivos na variável dependente aumentou, mas continua muito baixo e pode ser problemático para o treinamento do modelo"
      ]
    },
    {
      "cell_type": "markdown",
      "metadata": {
        "id": "oxYdBKWHULN4"
      },
      "source": [
        "**Separação em conjuntos de treino, validação e teste**"
      ]
    },
    {
      "cell_type": "code",
      "metadata": {
        "colab": {
          "base_uri": "https://localhost:8080/"
        },
        "id": "GipA3i6RToW5",
        "outputId": "0e4805bf-0863-47b3-b219-5fbae64324f1"
      },
      "source": [
        "#criação de lista com IDs únicos\n",
        "aa=pd_data\n",
        "pd_id=aa.drop_duplicates(subset='ID')\n",
        "pd_id=pd_id[['ID']]\n",
        "pd_id.shape"
      ],
      "execution_count": null,
      "outputs": [
        {
          "output_type": "execute_result",
          "data": {
            "text/plain": [
              "(421, 1)"
            ]
          },
          "metadata": {},
          "execution_count": 25
        }
      ]
    },
    {
      "cell_type": "code",
      "metadata": {
        "id": "GHo7_YGzUujL"
      },
      "source": [
        "#criaçaõ de variável aleatória\n",
        "np.random.seed(42)\n",
        "pd_id['wookie'] = (np.random.randint(0, 10000, pd_id.shape[0]))/10000\n",
        "pd_id=pd_id[['ID', 'wookie']]"
      ],
      "execution_count": null,
      "outputs": []
    },
    {
      "cell_type": "code",
      "metadata": {
        "colab": {
          "base_uri": "https://localhost:8080/"
        },
        "id": "HbFMJGYwU4at",
        "outputId": "82bf3d22-348c-4a12-cbc2-8aaf82343372"
      },
      "source": [
        "#separação dos conjuntos\n",
        "pd_id['MODELING_GROUP'] = np.where(((pd_id.wookie <= 0.35)), 'TRAINING', np.where(((pd_id.wookie <= 0.65)), 'VALIDATION', 'TESTING'))\n",
        "tips_summed = pd_id.groupby(['MODELING_GROUP'])['wookie'].count()\n",
        "tips_summed"
      ],
      "execution_count": null,
      "outputs": [
        {
          "output_type": "execute_result",
          "data": {
            "text/plain": [
              "MODELING_GROUP\n",
              "TESTING       149\n",
              "TRAINING      146\n",
              "VALIDATION    126\n",
              "Name: wookie, dtype: int64"
            ]
          },
          "metadata": {},
          "execution_count": 27
        }
      ]
    },
    {
      "cell_type": "code",
      "metadata": {
        "id": "AD7SMc7ZVOD8"
      },
      "source": [
        "# relacionar cada registro individual com seu ID\n",
        "pd_data=pd_data.sort_values(by=['ID'], ascending=[True])\n",
        "pd_id=pd_id.sort_values(by=['ID'], ascending=[True])\n",
        "pd_data =pd_data.merge(pd_id, on=['ID'], how='inner')"
      ],
      "execution_count": null,
      "outputs": []
    },
    {
      "cell_type": "code",
      "metadata": {
        "colab": {
          "base_uri": "https://localhost:8080/"
        },
        "id": "FOJVOazDVzOo",
        "outputId": "3f832514-ba6c-40bd-971c-0a9d81356e2d"
      },
      "source": [
        "#número de registros em cada um dos conjuntos\n",
        "tips_summed = pd_data.groupby(['MODELING_GROUP'])['wookie'].count()\n",
        "tips_summed"
      ],
      "execution_count": null,
      "outputs": [
        {
          "output_type": "execute_result",
          "data": {
            "text/plain": [
              "MODELING_GROUP\n",
              "TESTING       108919\n",
              "TRAINING      106726\n",
              "VALIDATION     92106\n",
              "Name: wookie, dtype: int64"
            ]
          },
          "metadata": {},
          "execution_count": 29
        }
      ]
    },
    {
      "cell_type": "code",
      "metadata": {
        "id": "hiEQ1qvEV9bL"
      },
      "source": [
        "#criação de dataframe para o conjunto de treino\n",
        "\n",
        "df_training=pd_data[pd_data['MODELING_GROUP'] == 'TRAINING']\n",
        "df_training=df_training.drop(columns=['MODELING_GROUP','C','wookie','TIME_TO_FAILURE','flipper','START_DATE'])"
      ],
      "execution_count": null,
      "outputs": []
    },
    {
      "cell_type": "code",
      "metadata": {
        "colab": {
          "base_uri": "https://localhost:8080/"
        },
        "id": "c80HhTsYWGkl",
        "outputId": "26b79c85-e130-4bf1-fbd5-cfe957c3e109"
      },
      "source": [
        "#criação de dataframe para treino e teste\n",
        "df_train_test=pd_data[pd_data['MODELING_GROUP'] != 'VALIDATION']\n",
        "df_train_test=df_train_test.drop(columns=['wookie','TIME_TO_FAILURE','flipper','START_DATE'])\n",
        "df_train_test.shape"
      ],
      "execution_count": null,
      "outputs": [
        {
          "output_type": "execute_result",
          "data": {
            "text/plain": [
              "(215645, 58)"
            ]
          },
          "metadata": {},
          "execution_count": 31
        }
      ]
    },
    {
      "cell_type": "code",
      "metadata": {
        "id": "efMK6kfZWRU8"
      },
      "source": [
        "#criação de dataframe que inclua tudo\n",
        "df_total=pd_data.drop(columns=['C','wookie','TIME_TO_FAILURE','flipper','START_DATE'])"
      ],
      "execution_count": null,
      "outputs": []
    },
    {
      "cell_type": "code",
      "metadata": {
        "id": "XLrekO2CWWYZ"
      },
      "source": [
        "# Mudança artificial do número de falhas para 50%\n",
        "training_features=df_training[['REGION_CLUSTER','MAINTENANCE_VENDOR','MANUFACTURER','WELL_GROUP','AGE_OF_EQUIPMENT','S15','S17','S13','S5',\n",
        " 'S16','S19','S18','S8','S5_mean','S5_median','S5_max','S5_min','S13_mean','S13_median','S13_max','S13_min','S15_mean','S15_median',\n",
        " 'S15_max','S15_min','S16_mean','S16_median','S16_max','S16_min','S17_mean','S17_median','S17_max','S17_min','S18_mean','S18_median','S18_max','S18_min','S19_mean','S19_median','S19_max','S19_min',\n",
        " 'S5_chg','S13_chg','S15_chg','S16_chg','S17_chg','S18_chg','S19_chg']]\n",
        "training_target=df_training[['FAILURE_TARGET']]"
      ],
      "execution_count": null,
      "outputs": []
    },
    {
      "cell_type": "code",
      "metadata": {
        "colab": {
          "base_uri": "https://localhost:8080/"
        },
        "id": "0NxWQEp6Xegx",
        "outputId": "b3268612-e76b-4129-ea07-60f1ec13b06c"
      },
      "source": [
        "#uso do smote para o equilíbrio artificial das ocorrências\n",
        "from imblearn.over_sampling import SMOTE\n",
        "from imblearn.over_sampling import SMOTENC\n",
        "smx = SMOTENC(random_state=12,  categorical_features=[0, 1, 2, 3])\n",
        "x_res, y_res = smx.fit_sample(training_features, training_target.values.ravel())"
      ],
      "execution_count": null,
      "outputs": [
        {
          "output_type": "stream",
          "name": "stderr",
          "text": [
            "/usr/local/lib/python3.7/dist-packages/sklearn/utils/deprecation.py:87: FutureWarning: Function safe_indexing is deprecated; safe_indexing is deprecated in version 0.22 and will be removed in version 0.24.\n",
            "  warnings.warn(msg, category=FutureWarning)\n",
            "/usr/local/lib/python3.7/dist-packages/sklearn/utils/deprecation.py:87: FutureWarning: Function safe_indexing is deprecated; safe_indexing is deprecated in version 0.22 and will be removed in version 0.24.\n",
            "  warnings.warn(msg, category=FutureWarning)\n"
          ]
        }
      ]
    },
    {
      "cell_type": "code",
      "metadata": {
        "id": "Lf0KGKvTXofA"
      },
      "source": [
        "#formatação das variáveis dependente e independente\n",
        "df_x=pd.DataFrame(x_res)\n",
        "df_x.columns = [\n",
        " 'REGION_CLUSTER','MAINTENANCE_VENDOR','MANUFACTURER','WELL_GROUP','AGE_OF_EQUIPMENT','S15','S17','S13','S5','S16','S19',\n",
        " 'S18','S8','S5_mean','S5_median','S5_max','S5_min','S13_mean','S13_median','S13_max','S13_min','S15_mean','S15_median','S15_max',\n",
        " 'S15_min','S16_mean','S16_median','S16_max','S16_min','S17_mean','S17_median','S17_max','S17_min','S18_mean','S18_median','S18_max','S18_min',\n",
        " 'S19_mean','S19_median','S19_max','S19_min','S5_chg','S13_chg','S15_chg','S16_chg','S17_chg','S18_chg','S19_chg']\n",
        "df_y=pd.DataFrame(y_res)\n",
        "df_y.columns = ['FAILURE_TARGET']"
      ],
      "execution_count": null,
      "outputs": []
    },
    {
      "cell_type": "code",
      "metadata": {
        "colab": {
          "base_uri": "https://localhost:8080/"
        },
        "id": "axjbg_C_YZJP",
        "outputId": "f2b74925-985c-493f-a445-f2fa31f2743a"
      },
      "source": [
        "#conferir se agora o número de falhas está balanceado\n",
        "df_y.mean(axis = 0)"
      ],
      "execution_count": null,
      "outputs": [
        {
          "output_type": "execute_result",
          "data": {
            "text/plain": [
              "FAILURE_TARGET    0.5\n",
              "dtype: float64"
            ]
          },
          "metadata": {},
          "execution_count": 36
        }
      ]
    },
    {
      "cell_type": "code",
      "metadata": {
        "id": "RCipPXdOYfX1"
      },
      "source": [
        "#jogar esses novos dados para um novo df\n",
        "df_balanced = pd.concat([df_y, df_x], axis=1)"
      ],
      "execution_count": null,
      "outputs": []
    },
    {
      "cell_type": "markdown",
      "metadata": {
        "id": "zpPOkd7HTxkn"
      },
      "source": [
        "Transformação dos dados e Engenharia de Variáveis. \n",
        "\n",
        "Vamos converter as variáveis categóricas em variáveis numéricas, pois o modelo que será usado (XGBT) não lida bem com varíaveis categóricas. "
      ]
    },
    {
      "cell_type": "code",
      "metadata": {
        "id": "9dMeSt_3UF5y"
      },
      "source": [
        "df_dv = pd.get_dummies(df_balanced['REGION_CLUSTER'])\n",
        "\n",
        "df_dv=df_dv.rename(columns={\"A\": \"CLUSTER_A\",\"B\":\"CLUSTER_B\",\"C\":\"CLUSTER_C\",\"D\":\"CLUSTER_D\",\"E\":\"CLUSTER_E\",\"F\":\"CLUSTER_F\",\"G\":\"CLUSTER_G\",\"H\":\"CLUSTER_H\"})\n",
        "df_balanced= pd.concat([df_balanced, df_dv], axis=1)\n",
        "\n",
        "df_dv = pd.get_dummies(df_balanced['MAINTENANCE_VENDOR'])\n",
        "df_dv=df_dv.rename(columns={\"I\": \"MV_I\",\"J\":\"MV_J\",\"K\":\"MV_K\",\"L\":\"MV_L\",\"M\":\"MV_M\",\"N\":\"MV_N\",\"O\":\"MV_O\",\"P\":\"MV_P\"})\n",
        "df_balanced = pd.concat([df_balanced, df_dv], axis=1)\n",
        "\n",
        "df_dv = pd.get_dummies(df_balanced['MANUFACTURER'])\n",
        "df_dv=df_dv.rename(columns={\"Q\": \"MN_Q\",\"R\":\"MN_R\",\"S\":\"MN_S\",\"T\":\"MN_T\",\"U\":\"MN_U\",\"V\":\"MN_V\",\"W\":\"MN_W\",\"X\":\"MN_X\",\"Y\":\"MN_Y\",\"Z\":\"MN_Z\"})\n",
        "df_balanced = pd.concat([df_balanced, df_dv], axis=1)\n",
        "\n",
        "df_dv = pd.get_dummies(df_balanced['WELL_GROUP'])\n",
        "df_dv=df_dv.rename(columns={1: \"WG_1\",2:\"WG_2\",3:\"WG_3\",4:\"WG_4\",5:\"WG_5\",6:\"WG_6\",7:\"WG_7\",8:\"WG_8\"})\n",
        "df_balanced = pd.concat([df_balanced, df_dv], axis=1)"
      ],
      "execution_count": null,
      "outputs": []
    },
    {
      "cell_type": "markdown",
      "metadata": {
        "id": "YVtMKb7jXsYT"
      },
      "source": [
        "Vamos aplicar a mesma transformação no conjunto de dados de treinamento."
      ]
    },
    {
      "cell_type": "code",
      "metadata": {
        "id": "cwBhBL_WX59n"
      },
      "source": [
        "df_dv = pd.get_dummies(df_train_test['REGION_CLUSTER'])\n",
        "df_dv=df_dv.rename(columns={\"A\": \"CLUSTER_A\",\"B\":\"CLUSTER_B\",\"C\":\"CLUSTER_C\",\"D\":\"CLUSTER_D\",\"E\":\"CLUSTER_E\",\"F\":\"CLUSTER_F\",\"G\":\"CLUSTER_G\",\"H\":\"CLUSTER_H\"})\n",
        "\n",
        "df_train_test= pd.concat([df_train_test, df_dv], axis=1)\n",
        "df_dv = pd.get_dummies(df_train_test['MAINTENANCE_VENDOR'])\n",
        "\n",
        "df_dv=df_dv.rename(columns={\"I\": \"MV_I\",\"J\":\"MV_J\",\"K\":\"MV_K\",\"L\":\"MV_L\",\"M\":\"MV_M\",\"N\":\"MV_N\",\"O\":\"MV_O\",\"P\":\"MV_P\"})\n",
        "df_train_test = pd.concat([df_train_test, df_dv], axis=1)\n",
        "\n",
        "df_dv = pd.get_dummies(df_train_test['MANUFACTURER'])\n",
        "\n",
        "df_dv=df_dv.rename(columns={\"Q\": \"MN_Q\",\"R\":\"MN_R\",\"S\":\"MN_S\",\"T\":\"MN_T\",\"U\":\"MN_U\",\"V\":\"MN_V\",\"W\":\"MN_W\",\"X\":\"MN_X\",\"Y\":\"MN_Y\",\"Z\":\"MN_Z\"})\n",
        "\n",
        "df_train_test = pd.concat([df_train_test, df_dv], axis=1)\n",
        "\n",
        "df_dv = pd.get_dummies(df_train_test['WELL_GROUP'])\n",
        "df_dv=df_dv.rename(columns={1: \"WG_1\",2:\"WG_2\",3:\"WG_3\",4:\"WG_4\",5:\"WG_5\",6:\"WG_6\",7:\"WG_7\",8:\"WG_8\"})\n",
        "\n",
        "df_train_test = pd.concat([df_train_test, df_dv], axis=1)"
      ],
      "execution_count": null,
      "outputs": []
    },
    {
      "cell_type": "markdown",
      "metadata": {
        "id": "NCuqugMPYoVl"
      },
      "source": [
        "Aplicaremos também no df_total data set. "
      ]
    },
    {
      "cell_type": "code",
      "metadata": {
        "id": "isaXyQKJYm6E"
      },
      "source": [
        "df_dv = pd.get_dummies(df_total['REGION_CLUSTER'])\n",
        "df_dv=df_dv.rename(columns={\"A\": \"CLUSTER_A\",\"B\":\"CLUSTER_B\",\"C\":\"CLUSTER_C\",\"D\":\"CLUSTER_D\",\"E\":\"CLUSTER_E\",\"F\":\"CLUSTER_F\",\"G\":\"CLUSTER_G\",\"H\":\"CLUSTER_H\"})\n",
        "\n",
        "df_total= pd.concat([df_total, df_dv], axis=1)\n",
        "\n",
        "df_dv = pd.get_dummies(df_total['MAINTENANCE_VENDOR'])\n",
        "df_dv=df_dv.rename(columns={\"I\": \"MV_I\",\"J\":\"MV_J\",\"K\":\"MV_K\",\"L\":\"MV_L\",\"M\":\"MV_M\",\"N\":\"MV_N\",\"O\":\"MV_O\",\"P\":\"MV_P\"})\n",
        "\n",
        "df_total = pd.concat([df_total, df_dv], axis=1)\n",
        "\n",
        "df_dv = pd.get_dummies(df_total['MANUFACTURER'])\n",
        "df_dv=df_dv.rename(columns={\"Q\": \"MN_Q\",\"R\":\"MN_R\",\"S\":\"MN_S\",\"T\":\"MN_T\",\"U\":\"MN_U\",\"V\":\"MN_V\",\"W\":\"MN_W\",\"X\":\"MN_X\",\"Y\":\"MN_Y\",\"Z\":\"MN_Z\"})\n",
        "\n",
        "df_total = pd.concat([df_total, df_dv], axis=1)\n",
        "\n",
        "df_dv = pd.get_dummies(df_total['WELL_GROUP'])\n",
        "df_dv=df_dv.rename(columns={1: \"WG_1\",2:\"WG_2\",3:\"WG_3\",4:\"WG_4\",5:\"WG_5\",6:\"WG_6\",7:\"WG_7\",8:\"WG_8\"})\n",
        "\n",
        "df_total = pd.concat([df_total, df_dv], axis=1)"
      ],
      "execution_count": null,
      "outputs": []
    },
    {
      "cell_type": "code",
      "metadata": {
        "id": "nXTdLeNIZAh2"
      },
      "source": [
        ""
      ],
      "execution_count": null,
      "outputs": []
    },
    {
      "cell_type": "markdown",
      "metadata": {
        "id": "FrJltf4qZE4B"
      },
      "source": [
        "# Construindo o modelo no dataset balanceado. \n"
      ]
    },
    {
      "cell_type": "code",
      "metadata": {
        "id": "TSiOqCo3Z_ta"
      },
      "source": [
        "df_balanced=df_balanced.drop(columns=['REGION_CLUSTER','MAINTENANCE_VENDOR','MANUFACTURER','WELL_GROUP'])\n",
        "\n",
        "features = [x for x in df_balanced.columns if x not in ['FAILURE_TARGET','EQUIPMENT_FAILURE']]  \n",
        "dependent=pd.DataFrame(df_balanced['FAILURE_TARGET'])\n",
        "independent=df_balanced.drop(columns=['FAILURE_TARGET'])\n",
        "\n",
        "#Garantir que todas as variáveis são numéricas\n",
        "independent = independent.apply(pd.to_numeric) \n",
        "df_balanced = df_balanced.apply(pd.to_numeric)"
      ],
      "execution_count": null,
      "outputs": []
    },
    {
      "cell_type": "code",
      "metadata": {
        "id": "qbW6xD24bY0g"
      },
      "source": [
        "# Definindo as especs do modelo\n",
        "\n",
        "import matplotlib.pylab as plt\n",
        "%matplotlib inline\n",
        "def evaluate_model(alg, train, target, predictors,  early_stopping_rounds=1):\n",
        "    \n",
        "   \n",
        "    #Fit the algorithm on the data\n",
        "    alg.fit(train[predictors], target['FAILURE_TARGET'], eval_metric='auc')\n",
        "        \n",
        "    #Predict training set:\n",
        "    dtrain_predictions = alg.predict(train[predictors])\n",
        "    dtrain_predprob = alg.predict_proba(train[predictors])[:,1]\n",
        "    \n",
        "    feat_imp = pd.Series(alg.get_booster().get_fscore()).sort_values(ascending=False) \n",
        "    feat_imp.plot(kind='bar', title='Feature Importance', color='g') \n",
        "    plt.ylabel('Feature Importance Score')\n",
        "        \n",
        "    #Print model report:\n",
        "    print(\"\\nModel Report\")\n",
        "    print(\"Accuracy : %.4g\" % metrics.accuracy_score(target['FAILURE_TARGET'].values, dtrain_predictions))\n",
        "    print(\"AUC Score (Balanced): %f\" % metrics.roc_auc_score(target['FAILURE_TARGET'], dtrain_predprob))"
      ],
      "execution_count": null,
      "outputs": []
    },
    {
      "cell_type": "code",
      "metadata": {
        "id": "tBfcIcK0begS"
      },
      "source": [
        "# Vamos utilizar os parâmetros padrões do modelo\n",
        "\n",
        "xgb0 = XGBClassifier(\n",
        " objective= 'binary:logistic')"
      ],
      "execution_count": null,
      "outputs": []
    },
    {
      "cell_type": "code",
      "metadata": {
        "colab": {
          "base_uri": "https://localhost:8080/",
          "height": 442
        },
        "id": "z3D_kDmYbzsg",
        "outputId": "f92aa6b7-a70f-43a2-e9b8-8683c6444a64"
      },
      "source": [
        "evaluate_model(xgb0, independent, dependent,features)"
      ],
      "execution_count": null,
      "outputs": [
        {
          "output_type": "stream",
          "name": "stdout",
          "text": [
            "\n",
            "Model Report\n",
            "Accuracy : 0.8272\n",
            "AUC Score (Balanced): 0.912646\n"
          ]
        },
        {
          "output_type": "display_data",
          "data": {
            "image/png": "[encoded data removed]",
            "text/plain": [
              "<Figure size 432x288 with 1 Axes>"
            ]
          },
          "metadata": {
            "needs_background": "light"
          }
        }
      ]
    },
    {
      "cell_type": "markdown",
      "metadata": {
        "id": "qXKkliJpenbz"
      },
      "source": [
        "Com um corte em 50%, a acurácia é de 0.835. E AUC fica de 0.916 utilizando o dataset balanceado. \n",
        "Agora vamos utilizar um dataframe desbalanceado, tentando aproximar mais da realidade. "
      ]
    },
    {
      "cell_type": "code",
      "metadata": {
        "colab": {
          "base_uri": "https://localhost:8080/"
        },
        "id": "SR7IZAn_dMqa",
        "outputId": "8ba72ab7-eb16-4ab9-cfb9-43991a2d72ea"
      },
      "source": [
        "df_testing=df_train_test[df_train_test['MODELING_GROUP'] == 'TESTING'].copy()\n",
        "df_training=df_train_test[df_train_test['MODELING_GROUP'] != 'TESTING'].copy()\n",
        "\n",
        "df_training['P_FAIL'] = xgb0.predict_proba(df_training[features])[:,1];\n",
        "df_training['Y_FAIL'] = np.where(((df_training.P_FAIL <= .50)), 0, 1)\n",
        "\n",
        "\n",
        "print(\"Accuracy : %.4g\" % metrics.accuracy_score(df_training['FAILURE_TARGET'].values, df_training['Y_FAIL']))\n",
        "print(\"AUC Score (Train): %f\" % metrics.roc_auc_score(df_training['FAILURE_TARGET'], df_training['P_FAIL']))"
      ],
      "execution_count": null,
      "outputs": [
        {
          "output_type": "stream",
          "name": "stdout",
          "text": [
            "Accuracy : 0.7737\n",
            "AUC Score (Train): 0.885915\n"
          ]
        }
      ]
    },
    {
      "cell_type": "markdown",
      "metadata": {
        "id": "eHUm9ux-hHW6"
      },
      "source": [
        "Agora, com um corte em 50%, conseguimos uma acurácia de 0.79 e AUC de 0.890. "
      ]
    },
    {
      "cell_type": "markdown",
      "metadata": {
        "id": "ZY0RYO1HhWBg"
      },
      "source": [
        "Vamos aplicar o modelo no dataset de teste. "
      ]
    },
    {
      "cell_type": "code",
      "metadata": {
        "colab": {
          "base_uri": "https://localhost:8080/"
        },
        "id": "MEvBq0O_galY",
        "outputId": "a8141e20-5dc1-482b-daf2-e7ccc40c95f3"
      },
      "source": [
        "wdf_testing['P_FAIL']= xgb0.predict_proba(df_testing[features])[:,1];\n",
        "df_testing['Y_FAIL'] = np.where(((df_testing.P_FAIL <= .67)), 0, 1)\n",
        "\n",
        "print(\"Accuracy : %.4g\" % metrics.accuracy_score(df_testing['FAILURE_TARGET'].values, df_testing['Y_FAIL']))\n",
        "print(\"AUC Score (Test): %f\" % metrics.roc_auc_score(df_testing['FAILURE_TARGET'], df_testing['P_FAIL']))"
      ],
      "execution_count": null,
      "outputs": [
        {
          "output_type": "stream",
          "name": "stdout",
          "text": [
            "Accuracy : 0.9421\n",
            "AUC Score (Test): 0.591206\n"
          ]
        }
      ]
    },
    {
      "cell_type": "code",
      "metadata": {
        "id": "YPEWwQMWhg7I"
      },
      "source": [
        ""
      ],
      "execution_count": null,
      "outputs": []
    }
  ]
}